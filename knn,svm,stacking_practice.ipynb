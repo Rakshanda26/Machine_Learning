{
 "cells": [
  {
   "cell_type": "code",
   "execution_count": 1,
   "id": "60d4b1e8",
   "metadata": {},
   "outputs": [],
   "source": [
    "import pandas as pd \n",
    "import numpy as np\n",
    "from sklearn.model_selection import train_test_split , GridSearchCV\n",
    "from sklearn.metrics import accuracy_score , confusion_matrix , roc_auc_score , roc_curve\n",
    "from pandas_profiling import ProfileReport\n",
    "from sklearn.neighbors import KNeighborsClassifier\n",
    "from sklearn.preprocessing import StandardScaler"
   ]
  },
  {
   "cell_type": "code",
   "execution_count": 2,
   "id": "937ec8bb",
   "metadata": {},
   "outputs": [],
   "source": [
    "df = pd.read_csv(\"https://raw.githubusercontent.com/aniruddhachoudhury/Red-Wine-Quality/master/winequality-red.csv\")"
   ]
  },
  {
   "cell_type": "code",
   "execution_count": 3,
   "id": "efe6d12b",
   "metadata": {},
   "outputs": [],
   "source": [
    "x = df.iloc[:,:-1]\n",
    "y = df.iloc[:,-1]"
   ]
  },
  {
   "cell_type": "code",
   "execution_count": 4,
   "id": "9f8b8e5a",
   "metadata": {},
   "outputs": [],
   "source": [
    "x_train , x_test, y_train,y_test = train_test_split(x,y,random_state = 20)"
   ]
  },
  {
   "cell_type": "code",
   "execution_count": 5,
   "id": "5c921174",
   "metadata": {},
   "outputs": [],
   "source": [
    "knn = KNeighborsClassifier()"
   ]
  },
  {
   "cell_type": "code",
   "execution_count": 6,
   "id": "9a8c7912",
   "metadata": {},
   "outputs": [
    {
     "data": {
      "text/plain": [
       "KNeighborsClassifier()"
      ]
     },
     "execution_count": 6,
     "metadata": {},
     "output_type": "execute_result"
    }
   ],
   "source": [
    "knn.fit(x_train, y_train)"
   ]
  },
  {
   "cell_type": "code",
   "execution_count": 7,
   "id": "2858d94c",
   "metadata": {},
   "outputs": [
    {
     "data": {
      "text/plain": [
       "0.5175"
      ]
     },
     "execution_count": 7,
     "metadata": {},
     "output_type": "execute_result"
    }
   ],
   "source": [
    "knn.score(x_test,y_test)"
   ]
  },
  {
   "cell_type": "code",
   "execution_count": 8,
   "id": "6b51e18c",
   "metadata": {},
   "outputs": [],
   "source": [
    "param = {\n",
    "    'n_neighbors':[3,5,7,9,12,13,15,17,21],\n",
    "    'algorithm' : ['auto', 'ball_tree', 'kd_tree', 'brute'],\n",
    "    'leaf_size' : [10 , 15 , 20 , 25 , 30 , 35 , 45 , 50 ],\n",
    "    'p' : [1,2],\n",
    "    'weights' : ['uniform', 'distance']\n",
    "}"
   ]
  },
  {
   "cell_type": "code",
   "execution_count": 9,
   "id": "386a11b1",
   "metadata": {},
   "outputs": [],
   "source": [
    "grid_cv = GridSearchCV(knn,param_grid=param )"
   ]
  },
  {
   "cell_type": "code",
   "execution_count": 10,
   "id": "3a5c8075",
   "metadata": {},
   "outputs": [],
   "source": [
    "#grid_cv.fit(x_train, y_train)\n",
    "#grid_cv.best_params_"
   ]
  },
  {
   "cell_type": "code",
   "execution_count": 11,
   "id": "ebf762ac",
   "metadata": {},
   "outputs": [],
   "source": [
    "knn = KNeighborsClassifier(n_neighbors=21,p= 1 ,weights='distance' , leaf_size=10 , algorithm='auto')"
   ]
  },
  {
   "cell_type": "code",
   "execution_count": 12,
   "id": "98b27192",
   "metadata": {},
   "outputs": [
    {
     "data": {
      "text/plain": [
       "KNeighborsClassifier(leaf_size=10, n_neighbors=21, p=1, weights='distance')"
      ]
     },
     "execution_count": 12,
     "metadata": {},
     "output_type": "execute_result"
    }
   ],
   "source": [
    "knn.fit(x_train,y_train)"
   ]
  },
  {
   "cell_type": "code",
   "execution_count": 13,
   "id": "158a8c76",
   "metadata": {},
   "outputs": [
    {
     "data": {
      "text/plain": [
       "0.6325"
      ]
     },
     "execution_count": 13,
     "metadata": {},
     "output_type": "execute_result"
    }
   ],
   "source": [
    "knn.score(x_test,y_test)"
   ]
  },
  {
   "cell_type": "code",
   "execution_count": 14,
   "id": "a2f34ef3",
   "metadata": {},
   "outputs": [],
   "source": [
    "import pickle"
   ]
  },
  {
   "cell_type": "code",
   "execution_count": 15,
   "id": "69cdf08b",
   "metadata": {},
   "outputs": [],
   "source": [
    "pickle.dump(knn, open('knn.pkl', 'wb'))"
   ]
  },
  {
   "cell_type": "code",
   "execution_count": 16,
   "id": "f3dee393",
   "metadata": {},
   "outputs": [],
   "source": [
    "knn1 = KNeighborsClassifier()"
   ]
  },
  {
   "cell_type": "code",
   "execution_count": 17,
   "id": "c7d89a53",
   "metadata": {},
   "outputs": [
    {
     "data": {
      "text/plain": [
       "KNeighborsClassifier()"
      ]
     },
     "execution_count": 17,
     "metadata": {},
     "output_type": "execute_result"
    }
   ],
   "source": [
    "knn1.fit(x_train,y_train)"
   ]
  },
  {
   "cell_type": "code",
   "execution_count": 18,
   "id": "84c341ae",
   "metadata": {},
   "outputs": [],
   "source": [
    "pickle.dump(knn1,open(\"knn1.pkl\", 'wb'))"
   ]
  },
  {
   "cell_type": "code",
   "execution_count": 19,
   "id": "247e2eab",
   "metadata": {},
   "outputs": [],
   "source": [
    "#knn stores entire data instead of object"
   ]
  },
  {
   "cell_type": "code",
   "execution_count": 20,
   "id": "97ad3314",
   "metadata": {},
   "outputs": [],
   "source": [
    "# train and test complexity is increase"
   ]
  },
  {
   "cell_type": "code",
   "execution_count": 21,
   "id": "030dcca4",
   "metadata": {},
   "outputs": [
    {
     "data": {
      "text/plain": [
       "array([6, 5, 5, 5, 5, 6, 5, 6, 5, 6, 6, 5, 6, 5, 5, 5, 5, 6, 6, 6, 5, 6,\n",
       "       6, 5, 7, 5, 5, 5, 5, 5, 5, 5, 5, 6, 5, 7, 6, 5, 6, 6, 5, 5, 6, 5,\n",
       "       7, 5, 6, 6, 6, 6, 7, 5, 5, 5, 6, 6, 5, 5, 5, 6, 5, 5, 6, 5, 5, 5,\n",
       "       5, 5, 6, 6, 5, 6, 6, 6, 5, 5, 6, 5, 5, 6, 5, 6, 6, 5, 5, 6, 5, 5,\n",
       "       5, 5, 5, 6, 5, 6, 6, 6, 5, 6, 7, 5, 5, 5, 6, 6, 6, 6, 6, 5, 5, 6,\n",
       "       5, 6, 5, 5, 5, 5, 5, 5, 5, 6, 5, 5, 5, 5, 6, 6, 6, 5, 6, 7, 6, 5,\n",
       "       5, 6, 6, 5, 6, 6, 5, 7, 5, 6, 6, 5, 5, 6, 6, 6, 5, 6, 5, 5, 5, 6,\n",
       "       6, 6, 5, 5, 5, 6, 6, 6, 6, 6, 5, 7, 5, 5, 5, 5, 5, 6, 5, 6, 6, 6,\n",
       "       6, 6, 5, 5, 7, 6, 7, 5, 5, 6, 5, 5, 6, 5, 6, 5, 6, 6, 5, 7, 5, 6,\n",
       "       6, 6, 6, 5, 6, 5, 6, 5, 6, 6, 5, 5, 6, 6, 5, 5, 6, 5, 6, 5, 5, 5,\n",
       "       5, 5, 5, 6, 6, 7, 5, 6, 7, 6, 5, 5, 7, 6, 5, 5, 6, 6, 6, 5, 6, 7,\n",
       "       7, 5, 6, 6, 5, 6, 5, 6, 5, 5, 6, 5, 5, 6, 7, 5, 5, 6, 6, 5, 5, 5,\n",
       "       6, 6, 6, 7, 5, 5, 5, 7, 7, 6, 5, 7, 6, 5, 6, 5, 6, 6, 6, 5, 5, 5,\n",
       "       5, 5, 5, 6, 6, 6, 6, 7, 7, 5, 5, 5, 6, 5, 5, 5, 5, 5, 5, 5, 5, 5,\n",
       "       5, 7, 7, 6, 5, 6, 5, 6, 5, 5, 5, 6, 6, 6, 5, 5, 5, 6, 5, 6, 6, 5,\n",
       "       5, 5, 5, 6, 5, 5, 5, 7, 5, 6, 5, 5, 6, 6, 6, 5, 7, 5, 7, 6, 5, 7,\n",
       "       5, 6, 7, 5, 6, 5, 5, 5, 5, 6, 5, 5, 5, 6, 6, 6, 5, 7, 6, 5, 5, 5,\n",
       "       5, 5, 5, 5, 6, 6, 7, 6, 6, 7, 6, 5, 5, 5, 6, 5, 6, 5, 5, 6, 6, 5,\n",
       "       5, 5, 5, 5], dtype=int64)"
      ]
     },
     "execution_count": 21,
     "metadata": {},
     "output_type": "execute_result"
    }
   ],
   "source": [
    "knn.predict(x_test)"
   ]
  },
  {
   "cell_type": "code",
   "execution_count": 22,
   "id": "17eddd47",
   "metadata": {},
   "outputs": [
    {
     "data": {
      "text/plain": [
       "array([6], dtype=int64)"
      ]
     },
     "execution_count": 22,
     "metadata": {},
     "output_type": "execute_result"
    }
   ],
   "source": [
    "knn.predict([x_test.iloc[0]])"
   ]
  },
  {
   "cell_type": "markdown",
   "id": "67e8bb0a",
   "metadata": {},
   "source": [
    "# SVM"
   ]
  },
  {
   "cell_type": "code",
   "execution_count": 23,
   "id": "ac0b1b38",
   "metadata": {},
   "outputs": [],
   "source": [
    "from sklearn.svm import SVC"
   ]
  },
  {
   "cell_type": "code",
   "execution_count": 24,
   "id": "dddc12d4",
   "metadata": {},
   "outputs": [],
   "source": [
    "svc = SVC()"
   ]
  },
  {
   "cell_type": "code",
   "execution_count": 25,
   "id": "5136572a",
   "metadata": {},
   "outputs": [
    {
     "data": {
      "text/plain": [
       "SVC()"
      ]
     },
     "execution_count": 25,
     "metadata": {},
     "output_type": "execute_result"
    }
   ],
   "source": [
    "svc.fit(x_train,y_train)"
   ]
  },
  {
   "cell_type": "code",
   "execution_count": 26,
   "id": "e3fb2779",
   "metadata": {},
   "outputs": [
    {
     "data": {
      "text/plain": [
       "0.5"
      ]
     },
     "execution_count": 26,
     "metadata": {},
     "output_type": "execute_result"
    }
   ],
   "source": [
    "svc.score(x_test,y_test)"
   ]
  },
  {
   "cell_type": "code",
   "execution_count": 33,
   "id": "c19953cb",
   "metadata": {},
   "outputs": [],
   "source": [
    "#Kernal -  rbf - radial bias func = trying to derive one more stat\n",
    "# Gamma is parameter to control the third parameter"
   ]
  },
  {
   "cell_type": "code",
   "execution_count": 34,
   "id": "874713cb",
   "metadata": {},
   "outputs": [],
   "source": [
    "param ={\"kernel\":['linear', 'poly', 'rbf', 'sigmoid' ],\n",
    "        'C':[.1,.4 , .6 , 1,2,3,100,200,500],\n",
    "        'gamma':[.001,.1,.4,.004,.003]\n",
    "    } \n",
    "#svm_grid = GridSearchCV(svc , param_grid=param , verbose=3 )\n",
    "#svm_grid.fit(x_train,y_train)"
   ]
  },
  {
   "cell_type": "code",
   "execution_count": 35,
   "id": "7b61ab00",
   "metadata": {},
   "outputs": [],
   "source": [
    "#svm_grid.best_params_"
   ]
  },
  {
   "cell_type": "code",
   "execution_count": 36,
   "id": "ed94c9d8",
   "metadata": {},
   "outputs": [
    {
     "data": {
      "text/plain": [
       "SVC(kernel='poly')"
      ]
     },
     "execution_count": 36,
     "metadata": {},
     "output_type": "execute_result"
    }
   ],
   "source": [
    "svc1 = SVC(kernel='poly')\n",
    "svc1.fit(x_train,y_train)"
   ]
  },
  {
   "cell_type": "code",
   "execution_count": 37,
   "id": "6f071ceb",
   "metadata": {},
   "outputs": [
    {
     "data": {
      "text/plain": [
       "0.49"
      ]
     },
     "execution_count": 37,
     "metadata": {},
     "output_type": "execute_result"
    }
   ],
   "source": [
    "svc1.score(x_test,y_test)"
   ]
  },
  {
   "cell_type": "markdown",
   "id": "34dae65c",
   "metadata": {},
   "source": [
    "# SVR"
   ]
  },
  {
   "cell_type": "code",
   "execution_count": 39,
   "id": "e2eb8c64",
   "metadata": {},
   "outputs": [],
   "source": [
    "df = pd.read_csv('Admission_Prediction .csv')"
   ]
  },
  {
   "cell_type": "code",
   "execution_count": 56,
   "id": "c605c684",
   "metadata": {},
   "outputs": [],
   "source": [
    "x = df.iloc[:,:-1]\n",
    "y = df.iloc[:,-1]"
   ]
  },
  {
   "cell_type": "code",
   "execution_count": 57,
   "id": "a89b92ea",
   "metadata": {},
   "outputs": [],
   "source": [
    "x_train, x_test, y_train, y_test = train_test_split(x,y,random_state=30)"
   ]
  },
  {
   "cell_type": "code",
   "execution_count": 58,
   "id": "b5e75670",
   "metadata": {},
   "outputs": [],
   "source": [
    "from sklearn.svm import SVR"
   ]
  },
  {
   "cell_type": "code",
   "execution_count": 59,
   "id": "a6346ccc",
   "metadata": {},
   "outputs": [],
   "source": [
    "svr = SVR()"
   ]
  },
  {
   "cell_type": "code",
   "execution_count": 60,
   "id": "1f7eb809",
   "metadata": {},
   "outputs": [
    {
     "data": {
      "text/plain": [
       "Serial No.           0\n",
       "GRE Score            0\n",
       "TOEFL Score          0\n",
       "University Rating    0\n",
       "SOP                  0\n",
       "LOR                  0\n",
       "CGPA                 0\n",
       "Research             0\n",
       "Chance of Admit      0\n",
       "dtype: int64"
      ]
     },
     "execution_count": 60,
     "metadata": {},
     "output_type": "execute_result"
    }
   ],
   "source": [
    "df.isna().sum()"
   ]
  },
  {
   "cell_type": "code",
   "execution_count": 61,
   "id": "00d469be",
   "metadata": {},
   "outputs": [],
   "source": [
    "df['GRE Score'] = df['GRE Score'].fillna(df['GRE Score'].mean())"
   ]
  },
  {
   "cell_type": "code",
   "execution_count": 62,
   "id": "c3ad28f9",
   "metadata": {},
   "outputs": [],
   "source": [
    "df['TOEFL Score'] =df['TOEFL Score'].fillna(df['TOEFL Score'].mean())"
   ]
  },
  {
   "cell_type": "code",
   "execution_count": 63,
   "id": "b707a7ae",
   "metadata": {},
   "outputs": [],
   "source": [
    "df['University Rating'] = df['University Rating'].fillna(df['University Rating'].mean())"
   ]
  },
  {
   "cell_type": "code",
   "execution_count": 64,
   "id": "bc077e1d",
   "metadata": {},
   "outputs": [
    {
     "data": {
      "text/html": [
       "<div>\n",
       "<style scoped>\n",
       "    .dataframe tbody tr th:only-of-type {\n",
       "        vertical-align: middle;\n",
       "    }\n",
       "\n",
       "    .dataframe tbody tr th {\n",
       "        vertical-align: top;\n",
       "    }\n",
       "\n",
       "    .dataframe thead th {\n",
       "        text-align: right;\n",
       "    }\n",
       "</style>\n",
       "<table border=\"1\" class=\"dataframe\">\n",
       "  <thead>\n",
       "    <tr style=\"text-align: right;\">\n",
       "      <th></th>\n",
       "      <th>Serial No.</th>\n",
       "      <th>GRE Score</th>\n",
       "      <th>TOEFL Score</th>\n",
       "      <th>University Rating</th>\n",
       "      <th>SOP</th>\n",
       "      <th>LOR</th>\n",
       "      <th>CGPA</th>\n",
       "      <th>Research</th>\n",
       "      <th>Chance of Admit</th>\n",
       "    </tr>\n",
       "  </thead>\n",
       "  <tbody>\n",
       "    <tr>\n",
       "      <th>0</th>\n",
       "      <td>1</td>\n",
       "      <td>337.000000</td>\n",
       "      <td>118.0</td>\n",
       "      <td>4.0</td>\n",
       "      <td>4.5</td>\n",
       "      <td>4.5</td>\n",
       "      <td>9.65</td>\n",
       "      <td>1</td>\n",
       "      <td>0.92</td>\n",
       "    </tr>\n",
       "    <tr>\n",
       "      <th>1</th>\n",
       "      <td>2</td>\n",
       "      <td>324.000000</td>\n",
       "      <td>107.0</td>\n",
       "      <td>4.0</td>\n",
       "      <td>4.0</td>\n",
       "      <td>4.5</td>\n",
       "      <td>8.87</td>\n",
       "      <td>1</td>\n",
       "      <td>0.76</td>\n",
       "    </tr>\n",
       "    <tr>\n",
       "      <th>2</th>\n",
       "      <td>3</td>\n",
       "      <td>316.558763</td>\n",
       "      <td>104.0</td>\n",
       "      <td>3.0</td>\n",
       "      <td>3.0</td>\n",
       "      <td>3.5</td>\n",
       "      <td>8.00</td>\n",
       "      <td>1</td>\n",
       "      <td>0.72</td>\n",
       "    </tr>\n",
       "    <tr>\n",
       "      <th>3</th>\n",
       "      <td>4</td>\n",
       "      <td>322.000000</td>\n",
       "      <td>110.0</td>\n",
       "      <td>3.0</td>\n",
       "      <td>3.5</td>\n",
       "      <td>2.5</td>\n",
       "      <td>8.67</td>\n",
       "      <td>1</td>\n",
       "      <td>0.80</td>\n",
       "    </tr>\n",
       "    <tr>\n",
       "      <th>4</th>\n",
       "      <td>5</td>\n",
       "      <td>314.000000</td>\n",
       "      <td>103.0</td>\n",
       "      <td>2.0</td>\n",
       "      <td>2.0</td>\n",
       "      <td>3.0</td>\n",
       "      <td>8.21</td>\n",
       "      <td>0</td>\n",
       "      <td>0.65</td>\n",
       "    </tr>\n",
       "    <tr>\n",
       "      <th>...</th>\n",
       "      <td>...</td>\n",
       "      <td>...</td>\n",
       "      <td>...</td>\n",
       "      <td>...</td>\n",
       "      <td>...</td>\n",
       "      <td>...</td>\n",
       "      <td>...</td>\n",
       "      <td>...</td>\n",
       "      <td>...</td>\n",
       "    </tr>\n",
       "    <tr>\n",
       "      <th>495</th>\n",
       "      <td>496</td>\n",
       "      <td>332.000000</td>\n",
       "      <td>108.0</td>\n",
       "      <td>5.0</td>\n",
       "      <td>4.5</td>\n",
       "      <td>4.0</td>\n",
       "      <td>9.02</td>\n",
       "      <td>1</td>\n",
       "      <td>0.87</td>\n",
       "    </tr>\n",
       "    <tr>\n",
       "      <th>496</th>\n",
       "      <td>497</td>\n",
       "      <td>337.000000</td>\n",
       "      <td>117.0</td>\n",
       "      <td>5.0</td>\n",
       "      <td>5.0</td>\n",
       "      <td>5.0</td>\n",
       "      <td>9.87</td>\n",
       "      <td>1</td>\n",
       "      <td>0.96</td>\n",
       "    </tr>\n",
       "    <tr>\n",
       "      <th>497</th>\n",
       "      <td>498</td>\n",
       "      <td>330.000000</td>\n",
       "      <td>120.0</td>\n",
       "      <td>5.0</td>\n",
       "      <td>4.5</td>\n",
       "      <td>5.0</td>\n",
       "      <td>9.56</td>\n",
       "      <td>1</td>\n",
       "      <td>0.93</td>\n",
       "    </tr>\n",
       "    <tr>\n",
       "      <th>498</th>\n",
       "      <td>499</td>\n",
       "      <td>312.000000</td>\n",
       "      <td>103.0</td>\n",
       "      <td>4.0</td>\n",
       "      <td>4.0</td>\n",
       "      <td>5.0</td>\n",
       "      <td>8.43</td>\n",
       "      <td>0</td>\n",
       "      <td>0.73</td>\n",
       "    </tr>\n",
       "    <tr>\n",
       "      <th>499</th>\n",
       "      <td>500</td>\n",
       "      <td>327.000000</td>\n",
       "      <td>113.0</td>\n",
       "      <td>4.0</td>\n",
       "      <td>4.5</td>\n",
       "      <td>4.5</td>\n",
       "      <td>9.04</td>\n",
       "      <td>0</td>\n",
       "      <td>0.84</td>\n",
       "    </tr>\n",
       "  </tbody>\n",
       "</table>\n",
       "<p>500 rows × 9 columns</p>\n",
       "</div>"
      ],
      "text/plain": [
       "     Serial No.   GRE Score  TOEFL Score  University Rating  SOP  LOR  CGPA  \\\n",
       "0             1  337.000000        118.0                4.0  4.5  4.5  9.65   \n",
       "1             2  324.000000        107.0                4.0  4.0  4.5  8.87   \n",
       "2             3  316.558763        104.0                3.0  3.0  3.5  8.00   \n",
       "3             4  322.000000        110.0                3.0  3.5  2.5  8.67   \n",
       "4             5  314.000000        103.0                2.0  2.0  3.0  8.21   \n",
       "..          ...         ...          ...                ...  ...  ...   ...   \n",
       "495         496  332.000000        108.0                5.0  4.5  4.0  9.02   \n",
       "496         497  337.000000        117.0                5.0  5.0  5.0  9.87   \n",
       "497         498  330.000000        120.0                5.0  4.5  5.0  9.56   \n",
       "498         499  312.000000        103.0                4.0  4.0  5.0  8.43   \n",
       "499         500  327.000000        113.0                4.0  4.5  4.5  9.04   \n",
       "\n",
       "     Research  Chance of Admit  \n",
       "0           1             0.92  \n",
       "1           1             0.76  \n",
       "2           1             0.72  \n",
       "3           1             0.80  \n",
       "4           0             0.65  \n",
       "..        ...              ...  \n",
       "495         1             0.87  \n",
       "496         1             0.96  \n",
       "497         1             0.93  \n",
       "498         0             0.73  \n",
       "499         0             0.84  \n",
       "\n",
       "[500 rows x 9 columns]"
      ]
     },
     "execution_count": 64,
     "metadata": {},
     "output_type": "execute_result"
    }
   ],
   "source": [
    "df"
   ]
  },
  {
   "cell_type": "code",
   "execution_count": 65,
   "id": "ed8c9c66",
   "metadata": {},
   "outputs": [
    {
     "data": {
      "text/plain": [
       "SVR()"
      ]
     },
     "execution_count": 65,
     "metadata": {},
     "output_type": "execute_result"
    }
   ],
   "source": [
    "svr.fit(x_train,y_train)"
   ]
  },
  {
   "cell_type": "code",
   "execution_count": 66,
   "id": "baf484d5",
   "metadata": {},
   "outputs": [
    {
     "data": {
      "text/plain": [
       "0.6241120903422273"
      ]
     },
     "execution_count": 66,
     "metadata": {},
     "output_type": "execute_result"
    }
   ],
   "source": [
    "svr.score(x_test,y_test)"
   ]
  },
  {
   "cell_type": "code",
   "execution_count": 67,
   "id": "97effd53",
   "metadata": {},
   "outputs": [
    {
     "data": {
      "text/plain": [
       "0.6241120903422273"
      ]
     },
     "execution_count": 67,
     "metadata": {},
     "output_type": "execute_result"
    }
   ],
   "source": [
    "from sklearn.metrics import r2_score\n",
    "r2_score(y_test ,  svr.predict(x_test))"
   ]
  },
  {
   "cell_type": "code",
   "execution_count": 68,
   "id": "ed22c002",
   "metadata": {},
   "outputs": [
    {
     "data": {
      "text/plain": [
       "array([0.78212365])"
      ]
     },
     "execution_count": 68,
     "metadata": {},
     "output_type": "execute_result"
    }
   ],
   "source": [
    "svr.predict([x.iloc[0]])"
   ]
  },
  {
   "cell_type": "code",
   "execution_count": 71,
   "id": "66363d4e",
   "metadata": {},
   "outputs": [
    {
     "data": {
      "text/plain": [
       "0.92"
      ]
     },
     "execution_count": 71,
     "metadata": {},
     "output_type": "execute_result"
    }
   ],
   "source": [
    "y[0]"
   ]
  },
  {
   "cell_type": "markdown",
   "id": "562e95da",
   "metadata": {},
   "source": [
    "# Stacking"
   ]
  },
  {
   "cell_type": "code",
   "execution_count": 72,
   "id": "dd7577ec",
   "metadata": {},
   "outputs": [],
   "source": [
    "import pandas as pd \n",
    "import numpy as np\n",
    "from sklearn.neighbors import KNeighborsClassifier\n",
    "from sklearn.svm import SVC\n",
    "from sklearn import tree\n",
    "from sklearn.model_selection import train_test_split\n",
    "from sklearn.ensemble import RandomForestClassifier"
   ]
  },
  {
   "cell_type": "code",
   "execution_count": 73,
   "id": "353c71cd",
   "metadata": {},
   "outputs": [],
   "source": [
    "data = pd.read_csv(\"https://raw.githubusercontent.com/aniruddhachoudhury/Red-Wine-Quality/master/winequality-red.csv\")"
   ]
  },
  {
   "cell_type": "code",
   "execution_count": 80,
   "id": "703f9c6d",
   "metadata": {},
   "outputs": [],
   "source": [
    "x = data.iloc[:,:-1]\n",
    "y = data.iloc[:,-1]"
   ]
  },
  {
   "cell_type": "code",
   "execution_count": 90,
   "id": "e29e2362",
   "metadata": {},
   "outputs": [],
   "source": [
    "# divide data into two division\n",
    "\n",
    "train, val_train , test, val_test = train_test_split(x,y,test_size=.50,random_state=30)"
   ]
  },
  {
   "cell_type": "code",
   "execution_count": 91,
   "id": "4a002931",
   "metadata": {},
   "outputs": [],
   "source": [
    "x_train , x_test , y_train, y_test = train_test_split(train ,test,random_state = 30 , test_size = .20)"
   ]
  },
  {
   "cell_type": "code",
   "execution_count": 92,
   "id": "07cb8651",
   "metadata": {},
   "outputs": [
    {
     "data": {
      "text/plain": [
       "KNeighborsClassifier()"
      ]
     },
     "execution_count": 92,
     "metadata": {},
     "output_type": "execute_result"
    }
   ],
   "source": [
    "knn = KNeighborsClassifier()\n",
    "knn.fit(x_train,y_train)"
   ]
  },
  {
   "cell_type": "code",
   "execution_count": 93,
   "id": "a8e46818",
   "metadata": {},
   "outputs": [
    {
     "data": {
      "text/plain": [
       "0.54375"
      ]
     },
     "execution_count": 93,
     "metadata": {},
     "output_type": "execute_result"
    }
   ],
   "source": [
    "knn.score(x_test,y_test)"
   ]
  },
  {
   "cell_type": "code",
   "execution_count": 94,
   "id": "7d5c78a6",
   "metadata": {},
   "outputs": [
    {
     "data": {
      "text/plain": [
       "SVC()"
      ]
     },
     "execution_count": 94,
     "metadata": {},
     "output_type": "execute_result"
    }
   ],
   "source": [
    "svc = SVC()\n",
    "svc.fit(x_train,y_train)"
   ]
  },
  {
   "cell_type": "code",
   "execution_count": 95,
   "id": "82449b43",
   "metadata": {},
   "outputs": [
    {
     "data": {
      "text/plain": [
       "0.4875"
      ]
     },
     "execution_count": 95,
     "metadata": {},
     "output_type": "execute_result"
    }
   ],
   "source": [
    "svc.score(x_test,y_test)"
   ]
  },
  {
   "cell_type": "code",
   "execution_count": 97,
   "id": "8db6cae2",
   "metadata": {},
   "outputs": [],
   "source": [
    "predcition_knn = knn.predict(val_train)\n",
    "prediction_svc = svc.predict(val_train)"
   ]
  },
  {
   "cell_type": "code",
   "execution_count": 98,
   "id": "17f87aa1",
   "metadata": {},
   "outputs": [],
   "source": [
    "input3 = np.column_stack((predcition_knn,prediction_svc))"
   ]
  },
  {
   "cell_type": "code",
   "execution_count": 99,
   "id": "4fb38477",
   "metadata": {},
   "outputs": [],
   "source": [
    "output = val_test"
   ]
  },
  {
   "cell_type": "code",
   "execution_count": 100,
   "id": "8787f8f2",
   "metadata": {},
   "outputs": [
    {
     "data": {
      "text/html": [
       "<div>\n",
       "<style scoped>\n",
       "    .dataframe tbody tr th:only-of-type {\n",
       "        vertical-align: middle;\n",
       "    }\n",
       "\n",
       "    .dataframe tbody tr th {\n",
       "        vertical-align: top;\n",
       "    }\n",
       "\n",
       "    .dataframe thead th {\n",
       "        text-align: right;\n",
       "    }\n",
       "</style>\n",
       "<table border=\"1\" class=\"dataframe\">\n",
       "  <thead>\n",
       "    <tr style=\"text-align: right;\">\n",
       "      <th></th>\n",
       "      <th>0</th>\n",
       "      <th>1</th>\n",
       "    </tr>\n",
       "  </thead>\n",
       "  <tbody>\n",
       "    <tr>\n",
       "      <th>0</th>\n",
       "      <td>7</td>\n",
       "      <td>6</td>\n",
       "    </tr>\n",
       "    <tr>\n",
       "      <th>1</th>\n",
       "      <td>5</td>\n",
       "      <td>6</td>\n",
       "    </tr>\n",
       "    <tr>\n",
       "      <th>2</th>\n",
       "      <td>6</td>\n",
       "      <td>6</td>\n",
       "    </tr>\n",
       "    <tr>\n",
       "      <th>3</th>\n",
       "      <td>5</td>\n",
       "      <td>6</td>\n",
       "    </tr>\n",
       "    <tr>\n",
       "      <th>4</th>\n",
       "      <td>5</td>\n",
       "      <td>6</td>\n",
       "    </tr>\n",
       "    <tr>\n",
       "      <th>...</th>\n",
       "      <td>...</td>\n",
       "      <td>...</td>\n",
       "    </tr>\n",
       "    <tr>\n",
       "      <th>795</th>\n",
       "      <td>5</td>\n",
       "      <td>6</td>\n",
       "    </tr>\n",
       "    <tr>\n",
       "      <th>796</th>\n",
       "      <td>5</td>\n",
       "      <td>6</td>\n",
       "    </tr>\n",
       "    <tr>\n",
       "      <th>797</th>\n",
       "      <td>5</td>\n",
       "      <td>6</td>\n",
       "    </tr>\n",
       "    <tr>\n",
       "      <th>798</th>\n",
       "      <td>6</td>\n",
       "      <td>6</td>\n",
       "    </tr>\n",
       "    <tr>\n",
       "      <th>799</th>\n",
       "      <td>5</td>\n",
       "      <td>5</td>\n",
       "    </tr>\n",
       "  </tbody>\n",
       "</table>\n",
       "<p>800 rows × 2 columns</p>\n",
       "</div>"
      ],
      "text/plain": [
       "     0  1\n",
       "0    7  6\n",
       "1    5  6\n",
       "2    6  6\n",
       "3    5  6\n",
       "4    5  6\n",
       "..  .. ..\n",
       "795  5  6\n",
       "796  5  6\n",
       "797  5  6\n",
       "798  6  6\n",
       "799  5  5\n",
       "\n",
       "[800 rows x 2 columns]"
      ]
     },
     "execution_count": 100,
     "metadata": {},
     "output_type": "execute_result"
    }
   ],
   "source": [
    "pd.DataFrame(input3)"
   ]
  },
  {
   "cell_type": "code",
   "execution_count": 101,
   "id": "9da39f38",
   "metadata": {},
   "outputs": [],
   "source": [
    "rf = RandomForestClassifier()"
   ]
  },
  {
   "cell_type": "code",
   "execution_count": 102,
   "id": "368a2227",
   "metadata": {},
   "outputs": [
    {
     "data": {
      "text/plain": [
       "RandomForestClassifier()"
      ]
     },
     "execution_count": 102,
     "metadata": {},
     "output_type": "execute_result"
    }
   ],
   "source": [
    "rf.fit(input3,output)"
   ]
  },
  {
   "cell_type": "code",
   "execution_count": 104,
   "id": "124fc9f4",
   "metadata": {},
   "outputs": [],
   "source": [
    "knn_output = knn.predict(x_test)\n",
    "svc_output = svc.predict(x_test)"
   ]
  },
  {
   "cell_type": "code",
   "execution_count": 105,
   "id": "2f918e23",
   "metadata": {},
   "outputs": [],
   "source": [
    "output_stack1 = np.column_stack ((knn_output,svc_output))"
   ]
  },
  {
   "cell_type": "code",
   "execution_count": 106,
   "id": "586df657",
   "metadata": {},
   "outputs": [
    {
     "data": {
      "text/plain": [
       "array([5, 6, 5, 5, 6, 6, 5, 6, 6, 5, 6, 5, 5, 5, 6, 6, 6, 5, 5, 6, 5, 6,\n",
       "       6, 5, 5, 5, 6, 5, 5, 5, 6, 5, 6, 5, 6, 6, 5, 5, 6, 5, 5, 6, 5, 5,\n",
       "       6, 6, 5, 5, 6, 5, 6, 5, 6, 5, 5, 6, 6, 6, 6, 5, 5, 5, 5, 6, 6, 5,\n",
       "       5, 5, 6, 5, 5, 5, 5, 6, 6, 6, 6, 5, 5, 5, 6, 6, 5, 6, 5, 6, 6, 5,\n",
       "       6, 6, 5, 5, 6, 5, 5, 6, 6, 5, 5, 5, 5, 6, 6, 5, 6, 5, 5, 6, 6, 5,\n",
       "       5, 6, 6, 5, 5, 5, 5, 6, 5, 6, 6, 6, 6, 6, 6, 6, 5, 5, 5, 5, 6, 5,\n",
       "       6, 6, 5, 6, 6, 5, 5, 6, 5, 5, 5, 6, 6, 5, 5, 6, 5, 6, 6, 5, 6, 6,\n",
       "       5, 5, 5, 6, 5, 5], dtype=int64)"
      ]
     },
     "execution_count": 106,
     "metadata": {},
     "output_type": "execute_result"
    }
   ],
   "source": [
    "rf.predict(output_stack1)"
   ]
  },
  {
   "cell_type": "code",
   "execution_count": 107,
   "id": "78a107a4",
   "metadata": {},
   "outputs": [
    {
     "data": {
      "text/plain": [
       "0.55"
      ]
     },
     "execution_count": 107,
     "metadata": {},
     "output_type": "execute_result"
    }
   ],
   "source": [
    "rf.score(output_stack1 , y_test)"
   ]
  },
  {
   "cell_type": "code",
   "execution_count": null,
   "id": "81afd763",
   "metadata": {},
   "outputs": [],
   "source": []
  }
 ],
 "metadata": {
  "kernelspec": {
   "display_name": "Python 3 (ipykernel)",
   "language": "python",
   "name": "python3"
  },
  "language_info": {
   "codemirror_mode": {
    "name": "ipython",
    "version": 3
   },
   "file_extension": ".py",
   "mimetype": "text/x-python",
   "name": "python",
   "nbconvert_exporter": "python",
   "pygments_lexer": "ipython3",
   "version": "3.9.7"
  }
 },
 "nbformat": 4,
 "nbformat_minor": 5
}
